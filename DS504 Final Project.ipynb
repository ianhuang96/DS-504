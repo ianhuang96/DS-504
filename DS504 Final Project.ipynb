{
 "cells": [
  {
   "cell_type": "code",
   "execution_count": 1,
   "metadata": {
    "colab": {
     "base_uri": "https://localhost:8080/",
     "height": 34
    },
    "colab_type": "code",
    "id": "SUmc1DqLXb6v",
    "outputId": "86385759-66b7-4005-ae2d-46323007ee49"
   },
   "outputs": [
    {
     "name": "stderr",
     "output_type": "stream",
     "text": [
      "/Library/Frameworks/Python.framework/Versions/3.7/lib/python3.7/site-packages/tqdm/std.py:648: FutureWarning: The Panel class is removed from pandas. Accessing it from the top-level namespace will also be removed in the next version\n",
      "  from pandas import Panel\n",
      "Using TensorFlow backend.\n"
     ]
    }
   ],
   "source": [
    "import pandas as pd\n",
    "import numpy as np\n",
    "from tqdm import tqdm\n",
    "tqdm.pandas()\n",
    "\n",
    "import seaborn as sns\n",
    "import matplotlib.pyplot as plt\n",
    "\n",
    "from collections import defaultdict\n",
    "from wordcloud import STOPWORDS\n",
    "\n",
    "from sklearn.linear_model import LogisticRegression\n",
    "from sklearn.feature_extraction.text import CountVectorizer, TfidfVectorizer\n",
    "from tqdm import tqdm\n",
    "import re, string\n",
    "from nltk.stem import PorterStemmer\n",
    "from sklearn.metrics import roc_curve, auc\n",
    "import matplotlib.pyplot as plt\n",
    "\n",
    "import os\n",
    "import time\n",
    "\n",
    "import math\n",
    "\n",
    "from sklearn import metrics\n",
    "\n",
    "from keras.preprocessing.text import Tokenizer\n",
    "from keras.preprocessing.sequence import pad_sequences\n",
    "from keras.layers import Dense, Input, LSTM, Embedding, Dropout, Activation, CuDNNGRU, Conv1D, MaxPool2D, Concatenate, CuDNNLSTM,SpatialDropout1D,GlobalMaxPooling1D,concatenate\n",
    "from keras.layers import Bidirectional, GlobalMaxPool1D, BatchNormalization\n",
    "from keras.models import Model\n",
    "from keras import initializers, regularizers, constraints, optimizers, layers\n",
    "from keras.initializers import *\n",
    "from keras.layers.core import Lambda\n",
    "\n",
    "from keras.layers import *\n",
    "from keras.models import *\n",
    "from keras import initializers, regularizers, constraints, optimizers, layers\n",
    "from keras.initializers import *\n",
    "from keras.optimizers import *\n",
    "import keras.backend as K\n",
    "from keras.callbacks import *\n",
    "import tensorflow as tf"
   ]
  },
  {
   "cell_type": "code",
   "execution_count": 2,
   "metadata": {
    "colab": {},
    "colab_type": "code",
    "id": "gBqbN4UEjUlc"
   },
   "outputs": [
    {
     "data": {
      "text/html": [
       "<div>\n",
       "<style scoped>\n",
       "    .dataframe tbody tr th:only-of-type {\n",
       "        vertical-align: middle;\n",
       "    }\n",
       "\n",
       "    .dataframe tbody tr th {\n",
       "        vertical-align: top;\n",
       "    }\n",
       "\n",
       "    .dataframe thead th {\n",
       "        text-align: right;\n",
       "    }\n",
       "</style>\n",
       "<table border=\"1\" class=\"dataframe\">\n",
       "  <thead>\n",
       "    <tr style=\"text-align: right;\">\n",
       "      <th></th>\n",
       "      <th>qid</th>\n",
       "      <th>question_text</th>\n",
       "      <th>target</th>\n",
       "    </tr>\n",
       "  </thead>\n",
       "  <tbody>\n",
       "    <tr>\n",
       "      <td>0</td>\n",
       "      <td>00002165364db923c7e6</td>\n",
       "      <td>How did Quebec nationalists see their province...</td>\n",
       "      <td>0</td>\n",
       "    </tr>\n",
       "    <tr>\n",
       "      <td>1</td>\n",
       "      <td>000032939017120e6e44</td>\n",
       "      <td>Do you have an adopted dog, how would you enco...</td>\n",
       "      <td>0</td>\n",
       "    </tr>\n",
       "    <tr>\n",
       "      <td>2</td>\n",
       "      <td>0000412ca6e4628ce2cf</td>\n",
       "      <td>Why does velocity affect time? Does velocity a...</td>\n",
       "      <td>0</td>\n",
       "    </tr>\n",
       "    <tr>\n",
       "      <td>3</td>\n",
       "      <td>000042bf85aa498cd78e</td>\n",
       "      <td>How did Otto von Guericke used the Magdeburg h...</td>\n",
       "      <td>0</td>\n",
       "    </tr>\n",
       "    <tr>\n",
       "      <td>4</td>\n",
       "      <td>0000455dfa3e01eae3af</td>\n",
       "      <td>Can I convert montra helicon D to a mountain b...</td>\n",
       "      <td>0</td>\n",
       "    </tr>\n",
       "    <tr>\n",
       "      <td>...</td>\n",
       "      <td>...</td>\n",
       "      <td>...</td>\n",
       "      <td>...</td>\n",
       "    </tr>\n",
       "    <tr>\n",
       "      <td>1048570</td>\n",
       "      <td>cd76189d120969381147</td>\n",
       "      <td>What info does a Facebook page receive when yo...</td>\n",
       "      <td>0</td>\n",
       "    </tr>\n",
       "    <tr>\n",
       "      <td>1048571</td>\n",
       "      <td>cd762e8941f1ab6ae0bf</td>\n",
       "      <td>If no can know God, why believe in something y...</td>\n",
       "      <td>0</td>\n",
       "    </tr>\n",
       "    <tr>\n",
       "      <td>1048572</td>\n",
       "      <td>cd76362e61ce44bcff74</td>\n",
       "      <td>Is it true that the lunar cycle affects women'...</td>\n",
       "      <td>0</td>\n",
       "    </tr>\n",
       "    <tr>\n",
       "      <td>1048573</td>\n",
       "      <td>cd763d37d3d7cfcd42ce</td>\n",
       "      <td>What is the difference between the old currenc...</td>\n",
       "      <td>0</td>\n",
       "    </tr>\n",
       "    <tr>\n",
       "      <td>1048574</td>\n",
       "      <td>cd7642554d107f946d8a</td>\n",
       "      <td>What is the full form of DML?</td>\n",
       "      <td>0</td>\n",
       "    </tr>\n",
       "  </tbody>\n",
       "</table>\n",
       "<p>1048575 rows × 3 columns</p>\n",
       "</div>"
      ],
      "text/plain": [
       "                          qid  \\\n",
       "0        00002165364db923c7e6   \n",
       "1        000032939017120e6e44   \n",
       "2        0000412ca6e4628ce2cf   \n",
       "3        000042bf85aa498cd78e   \n",
       "4        0000455dfa3e01eae3af   \n",
       "...                       ...   \n",
       "1048570  cd76189d120969381147   \n",
       "1048571  cd762e8941f1ab6ae0bf   \n",
       "1048572  cd76362e61ce44bcff74   \n",
       "1048573  cd763d37d3d7cfcd42ce   \n",
       "1048574  cd7642554d107f946d8a   \n",
       "\n",
       "                                             question_text  target  \n",
       "0        How did Quebec nationalists see their province...       0  \n",
       "1        Do you have an adopted dog, how would you enco...       0  \n",
       "2        Why does velocity affect time? Does velocity a...       0  \n",
       "3        How did Otto von Guericke used the Magdeburg h...       0  \n",
       "4        Can I convert montra helicon D to a mountain b...       0  \n",
       "...                                                    ...     ...  \n",
       "1048570  What info does a Facebook page receive when yo...       0  \n",
       "1048571  If no can know God, why believe in something y...       0  \n",
       "1048572  Is it true that the lunar cycle affects women'...       0  \n",
       "1048573  What is the difference between the old currenc...       0  \n",
       "1048574                      What is the full form of DML?       0  \n",
       "\n",
       "[1048575 rows x 3 columns]"
      ]
     },
     "execution_count": 2,
     "metadata": {},
     "output_type": "execute_result"
    }
   ],
   "source": [
    "train = pd.read_csv('train.csv',encoding='latin1')\n",
    "train"
   ]
  },
  {
   "cell_type": "code",
   "execution_count": 8,
   "metadata": {},
   "outputs": [],
   "source": [
    "# what does toxic text look like?\n",
    "toxic = train[train['target']==1]"
   ]
  },
  {
   "cell_type": "code",
   "execution_count": 9,
   "metadata": {},
   "outputs": [
    {
     "name": "stdout",
     "output_type": "stream",
     "text": [
      "22                                         Has the United States become the largest dictatorship in the world?\n",
      "30                      Which babies are more sweeter to their parents? Dark skin babies or light skin babies?\n",
      "110        If blacks support school choice and mandatory sentencing for criminals why don't they vote Repub...\n",
      "114        I am gay boy and I love my cousin (boy). He is sexy, but I dont know what to do. He is hot, and ...\n",
      "115                                                                       Which races have the smallest penis?\n",
      "                                                          ...                                                 \n",
      "1048511                                                   Why are some Asians put so much importance on money?\n",
      "1048515               Why do many liberals like Hilary over trump? Did she shit gold? Or did I miss something?\n",
      "1048527    Why do Americans say \"she gave birth to a baby girl\"? Can you also give birth to a toddler girl,...\n",
      "1048531                                                                Have you heard or had sex with animals?\n",
      "1048557     Why do Indian right wingers detest when Indian media mentions \"Dalit\" while reporting hate crimes?\n",
      "Name: question_text, Length: 64774, dtype: object\n"
     ]
    }
   ],
   "source": [
    "pd.options.display.max_colwidth = 100\n",
    "print(toxic['question_text'])"
   ]
  },
  {
   "cell_type": "code",
   "execution_count": 10,
   "metadata": {},
   "outputs": [
    {
     "data": {
      "text/plain": [
       "0.061773359082564434"
      ]
     },
     "execution_count": 10,
     "metadata": {},
     "output_type": "execute_result"
    }
   ],
   "source": [
    "# ratio of toxic text?\n",
    "len(toxic) / len(train)"
   ]
  },
  {
   "cell_type": "code",
   "execution_count": 13,
   "metadata": {},
   "outputs": [],
   "source": [
    "# simple word count for toxic text and non-toxic text\n",
    "non_toxic = train[train['target'] == 0]"
   ]
  },
  {
   "cell_type": "code",
   "execution_count": 16,
   "metadata": {},
   "outputs": [
    {
     "data": {
      "image/png": "[encoded data removed]",
      "text/plain": [
       "<Figure size 1440x720 with 2 Axes>"
      ]
     },
     "metadata": {
      "needs_background": "light"
     },
     "output_type": "display_data"
    }
   ],
   "source": [
    "stopwords = set(STOPWORDS)\n",
    "more_stopwords = {'one', 'br', 'Po', 'th', 'sayi', 'fo', 'Unknown'}\n",
    "stopwords = stopwords.union(more_stopwords)\n",
    "\n",
    "def ngram_extractor(text, n_gram):\n",
    "    token = [token for token in text.lower().split(\" \") if token != \"\" if token not in STOPWORDS]\n",
    "    ngrams = zip(*[token[i:] for i in range(n_gram)])\n",
    "    return [\" \".join(ngram) for ngram in ngrams]\n",
    "\n",
    "# Function to generate a dataframe with n_gram and top max_row frequencies\n",
    "def generate_ngrams(df, col, n_gram, max_row):\n",
    "    temp_dict = defaultdict(int)\n",
    "    for question in df[col]:\n",
    "        for word in ngram_extractor(question, n_gram):\n",
    "            temp_dict[word] += 1\n",
    "    temp_df = pd.DataFrame(sorted(temp_dict.items(), key=lambda x: x[1])[::-1]).head(max_row)\n",
    "    temp_df.columns = [\"word\", \"wordcount\"]\n",
    "    return temp_df\n",
    "\n",
    "def comparison_plot(df_1,df_2,col_1,col_2, space):\n",
    "    fig, ax = plt.subplots(1, 2, figsize=(20,10))\n",
    "    \n",
    "    sns.barplot(x=col_2, y=col_1, data=df_1, ax=ax[0], color=\"blue\")\n",
    "    sns.barplot(x=col_2, y=col_1, data=df_2, ax=ax[1], color=\"blue\")\n",
    "\n",
    "    ax[0].set_xlabel('Word count', size=14, color=\"blue\")\n",
    "    ax[0].set_ylabel('Words', size=14, color=\"blue\")\n",
    "    ax[0].set_title('Top words in sincere questions', size=18, color=\"blue\")\n",
    "\n",
    "    ax[1].set_xlabel('Word count', size=14, color=\"blue\")\n",
    "    ax[1].set_ylabel('Words', size=14, color=\"blue\")\n",
    "    ax[1].set_title('Top words in insincere questions', size=18, color=\"blue\")\n",
    "\n",
    "    fig.subplots_adjust(wspace=space)\n",
    "    \n",
    "    plt.show()\n",
    "    \n",
    "sincere_gram = generate_ngrams(non_toxic, 'question_text', 2, 50)\n",
    "insincere_gram = generate_ngrams(toxic, 'question_text', 2, 50)\n",
    "comparison_plot(sincere_gram,insincere_gram,'word','wordcount', .35)"
   ]
  },
  {
   "cell_type": "markdown",
   "metadata": {},
   "source": [
    "# Logistic Regression"
   ]
  },
  {
   "cell_type": "code",
   "execution_count": 17,
   "metadata": {},
   "outputs": [
    {
     "data": {
      "text/html": [
       "<div>\n",
       "<style scoped>\n",
       "    .dataframe tbody tr th:only-of-type {\n",
       "        vertical-align: middle;\n",
       "    }\n",
       "\n",
       "    .dataframe tbody tr th {\n",
       "        vertical-align: top;\n",
       "    }\n",
       "\n",
       "    .dataframe thead th {\n",
       "        text-align: right;\n",
       "    }\n",
       "</style>\n",
       "<table border=\"1\" class=\"dataframe\">\n",
       "  <thead>\n",
       "    <tr style=\"text-align: right;\">\n",
       "      <th></th>\n",
       "      <th>qid</th>\n",
       "      <th>question_text</th>\n",
       "      <th>target</th>\n",
       "    </tr>\n",
       "  </thead>\n",
       "  <tbody>\n",
       "    <tr>\n",
       "      <td>809415</td>\n",
       "      <td>9e9eb8f6edf76549f2eb</td>\n",
       "      <td>Why must there be a right and wrong?</td>\n",
       "      <td>0</td>\n",
       "    </tr>\n",
       "    <tr>\n",
       "      <td>347054</td>\n",
       "      <td>43fef130f1656d432491</td>\n",
       "      <td>Can I use single domain for blog and website?</td>\n",
       "      <td>0</td>\n",
       "    </tr>\n",
       "    <tr>\n",
       "      <td>808087</td>\n",
       "      <td>9e57726be8dd2b3e2d7d</td>\n",
       "      <td>If you have both adopted and biological children, do you discipline them differently?</td>\n",
       "      <td>0</td>\n",
       "    </tr>\n",
       "    <tr>\n",
       "      <td>628753</td>\n",
       "      <td>7b205b26a438af15bb1b</td>\n",
       "      <td>Does it mean the person has also saved my contact if I have the option to \"FaceTime\" with her?</td>\n",
       "      <td>0</td>\n",
       "    </tr>\n",
       "    <tr>\n",
       "      <td>731112</td>\n",
       "      <td>8f2d783cc4c2e0a341f4</td>\n",
       "      <td>What is your honest salary in marketing?</td>\n",
       "      <td>0</td>\n",
       "    </tr>\n",
       "  </tbody>\n",
       "</table>\n",
       "</div>"
      ],
      "text/plain": [
       "                         qid  \\\n",
       "809415  9e9eb8f6edf76549f2eb   \n",
       "347054  43fef130f1656d432491   \n",
       "808087  9e57726be8dd2b3e2d7d   \n",
       "628753  7b205b26a438af15bb1b   \n",
       "731112  8f2d783cc4c2e0a341f4   \n",
       "\n",
       "                                                                                         question_text  \\\n",
       "809415                                                            Why must there be a right and wrong?   \n",
       "347054                                                   Can I use single domain for blog and website?   \n",
       "808087           If you have both adopted and biological children, do you discipline them differently?   \n",
       "628753  Does it mean the person has also saved my contact if I have the option to \"FaceTime\" with her?   \n",
       "731112                                                        What is your honest salary in marketing?   \n",
       "\n",
       "        target  \n",
       "809415       0  \n",
       "347054       0  \n",
       "808087       0  \n",
       "628753       0  \n",
       "731112       0  "
      ]
     },
     "execution_count": 17,
     "metadata": {},
     "output_type": "execute_result"
    }
   ],
   "source": [
    "validation = train.sample(frac=0.1, replace=False, weights=None, random_state=None, axis=None)\n",
    "validation.head()"
   ]
  },
  {
   "cell_type": "code",
   "execution_count": 18,
   "metadata": {},
   "outputs": [
    {
     "data": {
      "text/html": [
       "<div>\n",
       "<style scoped>\n",
       "    .dataframe tbody tr th:only-of-type {\n",
       "        vertical-align: middle;\n",
       "    }\n",
       "\n",
       "    .dataframe tbody tr th {\n",
       "        vertical-align: top;\n",
       "    }\n",
       "\n",
       "    .dataframe thead th {\n",
       "        text-align: right;\n",
       "    }\n",
       "</style>\n",
       "<table border=\"1\" class=\"dataframe\">\n",
       "  <thead>\n",
       "    <tr style=\"text-align: right;\">\n",
       "      <th></th>\n",
       "      <th>qid</th>\n",
       "      <th>question_text</th>\n",
       "      <th>target</th>\n",
       "    </tr>\n",
       "  </thead>\n",
       "  <tbody>\n",
       "    <tr>\n",
       "      <td>0</td>\n",
       "      <td>00002165364db923c7e6</td>\n",
       "      <td>How did Quebec nationalists see their province as a nation in the 1960s?</td>\n",
       "      <td>0</td>\n",
       "    </tr>\n",
       "    <tr>\n",
       "      <td>1</td>\n",
       "      <td>000032939017120e6e44</td>\n",
       "      <td>Do you have an adopted dog, how would you encourage people to adopt and not shop?</td>\n",
       "      <td>0</td>\n",
       "    </tr>\n",
       "    <tr>\n",
       "      <td>2</td>\n",
       "      <td>0000412ca6e4628ce2cf</td>\n",
       "      <td>Why does velocity affect time? Does velocity affect space geometry?</td>\n",
       "      <td>0</td>\n",
       "    </tr>\n",
       "    <tr>\n",
       "      <td>3</td>\n",
       "      <td>000042bf85aa498cd78e</td>\n",
       "      <td>How did Otto von Guericke used the Magdeburg hemispheres?</td>\n",
       "      <td>0</td>\n",
       "    </tr>\n",
       "    <tr>\n",
       "      <td>4</td>\n",
       "      <td>0000455dfa3e01eae3af</td>\n",
       "      <td>Can I convert montra helicon D to a mountain bike by just changing the tyres?</td>\n",
       "      <td>0</td>\n",
       "    </tr>\n",
       "  </tbody>\n",
       "</table>\n",
       "</div>"
      ],
      "text/plain": [
       "                    qid  \\\n",
       "0  00002165364db923c7e6   \n",
       "1  000032939017120e6e44   \n",
       "2  0000412ca6e4628ce2cf   \n",
       "3  000042bf85aa498cd78e   \n",
       "4  0000455dfa3e01eae3af   \n",
       "\n",
       "                                                                       question_text  \\\n",
       "0           How did Quebec nationalists see their province as a nation in the 1960s?   \n",
       "1  Do you have an adopted dog, how would you encourage people to adopt and not shop?   \n",
       "2                Why does velocity affect time? Does velocity affect space geometry?   \n",
       "3                          How did Otto von Guericke used the Magdeburg hemispheres?   \n",
       "4      Can I convert montra helicon D to a mountain bike by just changing the tyres?   \n",
       "\n",
       "   target  \n",
       "0       0  \n",
       "1       0  \n",
       "2       0  \n",
       "3       0  \n",
       "4       0  "
      ]
     },
     "execution_count": 18,
     "metadata": {},
     "output_type": "execute_result"
    }
   ],
   "source": [
    "train = train[~train.index.isin(validation.index)]\n",
    "train.head()"
   ]
  },
  {
   "cell_type": "code",
   "execution_count": 19,
   "metadata": {},
   "outputs": [],
   "source": [
    "# cleaning insignificant symbols\n",
    "re_tok = re.compile(f'([{string.punctuation}“”¨«»®´·º½¾¿¡§£₤‘’\"\"])')"
   ]
  },
  {
   "cell_type": "code",
   "execution_count": 20,
   "metadata": {},
   "outputs": [],
   "source": [
    "# Tokenize function\n",
    "def tokenize(s): \n",
    "    s= re.sub('[^a-zA-Z0-9]',\" \",s)\n",
    "    tokens=re_tok.sub(r' \\1',s).split()\n",
    "    return tokens"
   ]
  },
  {
   "cell_type": "code",
   "execution_count": 21,
   "metadata": {},
   "outputs": [],
   "source": [
    "n = train.shape[0]\n",
    "vec = TfidfVectorizer(ngram_range=(1,2), tokenizer=tokenize,\n",
    "                     min_df=3, max_df=0.9, strip_accents='unicode',\n",
    "                     use_idf=1, smooth_idf=1, sublinear_tf=1)"
   ]
  },
  {
   "cell_type": "code",
   "execution_count": 23,
   "metadata": {},
   "outputs": [],
   "source": [
    "# Calculate TF-IDF weight\n",
    "trn_term_doc = vec.fit_transform(train['question_text'])\n",
    "val_term_doc = vec.transform(validation['question_text'])"
   ]
  },
  {
   "cell_type": "code",
   "execution_count": 16,
   "metadata": {},
   "outputs": [],
   "source": [
    "x = trn_term_doc\n",
    "x_val = val_term_doc"
   ]
  },
  {
   "cell_type": "code",
   "execution_count": 17,
   "metadata": {},
   "outputs": [],
   "source": [
    "# Generate a Logistic Regression model\n",
    "def get_model(y):\n",
    "    y = y.values\n",
    "    m = LogisticRegression(C=4, dual=False,solver='liblinear')    \n",
    "    return m.fit(x, y)"
   ]
  },
  {
   "cell_type": "code",
   "execution_count": 18,
   "metadata": {},
   "outputs": [],
   "source": [
    "preds = np.zeros((len(validation), 1))\n",
    "labels_cols=['target']"
   ]
  },
  {
   "cell_type": "code",
   "execution_count": 19,
   "metadata": {},
   "outputs": [],
   "source": [
    "m= get_model(train['target'])\n",
    "preds = m.predict_proba(x_val)[:,1]"
   ]
  },
  {
   "cell_type": "code",
   "execution_count": 20,
   "metadata": {},
   "outputs": [
    {
     "data": {
      "text/plain": [
       "0.9588429524256985"
      ]
     },
     "execution_count": 20,
     "metadata": {},
     "output_type": "execute_result"
    }
   ],
   "source": [
    "# Calculate auc and draw ROC curve\n",
    "y_true = validation['target'].values\n",
    "y_score = preds\n",
    "fpr, tpr, thresholds=roc_curve(y_true,y_score)\n",
    "roc_auc =auc(fpr, tpr) \n",
    "roc_auc"
   ]
  },
  {
   "cell_type": "code",
   "execution_count": 21,
   "metadata": {},
   "outputs": [
    {
     "data": {
      "image/png": "[encoded data removed]",
      "text/plain": [
       "<Figure size 576x360 with 1 Axes>"
      ]
     },
     "metadata": {
      "needs_background": "light"
     },
     "output_type": "display_data"
    }
   ],
   "source": [
    "lw = 2\n",
    "plt.figure(figsize=(8, 5))\n",
    "plt.plot(fpr, tpr, color='darkorange',\n",
    "         lw=lw, label='ROC curve (area = %0.2f)' % roc_auc)\n",
    "plt.plot([0, 1], [0, 1], color='navy', lw=lw, linestyle='--')\n",
    "plt.xlim([0.0, 1.0])\n",
    "plt.ylim([0.0, 1.0])\n",
    "plt.xlabel('False Positive Rate')\n",
    "plt.ylabel('True Positive Rate')\n",
    "plt.title('Receiver Operating Characteristic Example')\n",
    "plt.legend(loc=\"lower right\")\n",
    "plt.show()"
   ]
  },
  {
   "cell_type": "code",
   "execution_count": 22,
   "metadata": {},
   "outputs": [],
   "source": [
    "result = np.zeros((len(validation), 1))\n",
    "for i in range(len(preds)):\n",
    "    if preds[i] > 0.47:\n",
    "        result[i]=1\n",
    "    else:\n",
    "        result[i]=0"
   ]
  },
  {
   "cell_type": "code",
   "execution_count": 23,
   "metadata": {},
   "outputs": [
    {
     "data": {
      "text/plain": [
       "0.9560930019645616"
      ]
     },
     "execution_count": 23,
     "metadata": {},
     "output_type": "execute_result"
    }
   ],
   "source": [
    "# Calculate precision\n",
    "val=validation['target'].values\n",
    "val.reshape(preds.shape)\n",
    "temp=0\n",
    "for i in range(len(val)):\n",
    "    if result[i]==val[i]:\n",
    "        temp+=1\n",
    "precision = temp/len(val)\n",
    "precision"
   ]
  },
  {
   "cell_type": "code",
   "execution_count": 24,
   "metadata": {},
   "outputs": [
    {
     "data": {
      "text/plain": [
       "0.6402524544179523"
      ]
     },
     "execution_count": 24,
     "metadata": {},
     "output_type": "execute_result"
    }
   ],
   "source": [
    "result_2 = np.zeros((len(validation), 1))\n",
    "# Calculate F1 score\n",
    "for i in range(len(preds)):\n",
    "    if preds[i] > 0.25:\n",
    "        result_2[i]=1\n",
    "    else:\n",
    "        result_2[i]=0\n",
    "\n",
    "b=np.sum(result_2)\n",
    "a = np.sum(val)\n",
    "c=0\n",
    "for i in range(len(val)):\n",
    "    if result_2[i]==1 and val[i]==1:\n",
    "        c+=1\n",
    "precision = c / b\n",
    "recall = c / a\n",
    "f1_score = 2 * precision * recall / (precision + recall)\n",
    "f1_score\n",
    "\n"
   ]
  },
  {
   "cell_type": "markdown",
   "metadata": {
    "colab_type": "text",
    "id": "YMNMLIXyYXGq"
   },
   "source": [
    "# Embeddings"
   ]
  },
  {
   "cell_type": "code",
   "execution_count": 8,
   "metadata": {
    "colab": {
     "base_uri": "https://localhost:8080/",
     "height": 71
    },
    "colab_type": "code",
    "id": "xT8KcUNbYqZX",
    "outputId": "13c3fa13-cd85-4ebf-fa9e-955cb85f0fd8"
   },
   "outputs": [
    {
     "name": "stdout",
     "output_type": "stream",
     "text": [
      "2196016 (300,)\n"
     ]
    },
    {
     "name": "stderr",
     "output_type": "stream",
     "text": [
      "/usr/local/lib/python3.6/dist-packages/ipykernel_launcher.py:34: FutureWarning: arrays to stack must be passed as a \"sequence\" type such as list or tuple. Support for non-sequence iterables such as generators is deprecated as of NumPy 1.16 and will raise an error in the future.\n"
     ]
    }
   ],
   "source": [
    "embed_size = 300 \n",
    "max_features = 50000\n",
    "maxlen = 100\n",
    "\n",
    "\n",
    "train_X = train[\"question_text\"].fillna(\"_na_\").values\n",
    "val_X = validation[\"question_text\"].fillna(\"_na_\").values\n",
    "\n",
    "\n",
    "## Tokenize the sentences\n",
    "tokenizer = Tokenizer(num_words=max_features)\n",
    "tokenizer.fit_on_texts(list(train_X))#size\n",
    "train_X = tokenizer.texts_to_sequences(train_X)\n",
    "val_X = tokenizer.texts_to_sequences(val_X)\n",
    "\n",
    "train_X = pad_sequences(train_X, maxlen=maxlen)\n",
    "val_X = pad_sequences(val_X, maxlen=maxlen)\n",
    "\n",
    "train_y = train['target'].values\n",
    "val_y = validation['target'].values\n",
    "\n",
    "\n",
    "### Embedding\n",
    "\n",
    "def embedding_dic(path):\n",
    "    EMBEDDING_FILE = path\n",
    "\n",
    "    def get_coefs(word,*arr): return word, np.asarray(arr, dtype='float32')\n",
    "    embeddings_index = dict(get_coefs(*o.split(\" \")) for o in open(EMBEDDING_FILE, encoding=\"utf8\", errors='ignore') if len(o)>100)\n",
    "\n",
    "    return embeddings_index\n",
    "\n",
    "\n",
    "embeddings_index_gl = embedding_dic('glove.840B.300d.txt')\n",
    "embeddings_index = embeddings_index_gl\n",
    "\n",
    "print(len(embeddings_index),embeddings_index['UNK'].shape)\n",
    "all_embs = np.stack(embeddings_index.values())\n",
    "emb_mean,emb_std = all_embs.mean(), all_embs.std()\n",
    "embed_size = all_embs.shape[1]\n",
    "word_index = tokenizer.word_index\n",
    "nb_words = min(max_features, len(word_index))\n",
    "\n",
    "# compute embedding matrix & solving the uncovered words\n",
    "embedding_matrix = np.random.normal(emb_mean, emb_std, (nb_words, embed_size))\n",
    "for word, i in word_index.items():\n",
    "    if i >= max_features: continue\n",
    "    embedding_vector = embeddings_index.get(word)\n",
    "    if embedding_vector is not None: embedding_matrix[i] = embedding_vector"
   ]
  },
  {
   "cell_type": "markdown",
   "metadata": {
    "colab_type": "text",
    "id": "I_pzC9vfyPe3"
   },
   "source": [
    "# Build model"
   ]
  },
  {
   "cell_type": "code",
   "execution_count": 9,
   "metadata": {
    "colab": {
     "base_uri": "https://localhost:8080/",
     "height": 583
    },
    "colab_type": "code",
    "id": "39MviNfhnc2L",
    "outputId": "b07e131d-d62c-4ca7-d48c-e4f1f0f23f01"
   },
   "outputs": [
    {
     "name": "stdout",
     "output_type": "stream",
     "text": [
      "WARNING:tensorflow:From /usr/local/lib/python3.6/dist-packages/tensorflow/python/framework/op_def_library.py:263: colocate_with (from tensorflow.python.framework.ops) is deprecated and will be removed in a future version.\n",
      "Instructions for updating:\n",
      "Colocations handled automatically by placer.\n",
      "WARNING:tensorflow:From /usr/local/lib/python3.6/dist-packages/keras/backend/tensorflow_backend.py:3445: calling dropout (from tensorflow.python.ops.nn_ops) with keep_prob is deprecated and will be removed in a future version.\n",
      "Instructions for updating:\n",
      "Please use `rate` instead of `keep_prob`. Rate should be set to `rate = 1 - keep_prob`.\n",
      "_________________________________________________________________\n",
      "Layer (type)                 Output Shape              Param #   \n",
      "=================================================================\n",
      "input_1 (InputLayer)         (None, 100)               0         \n",
      "_________________________________________________________________\n",
      "embedding_1 (Embedding)      (None, 100, 300)          15000000  \n",
      "_________________________________________________________________\n",
      "bidirectional_1 (Bidirection (None, 100, 256)          330240    \n",
      "_________________________________________________________________\n",
      "bidirectional_2 (Bidirection (None, 100, 128)          123648    \n",
      "_________________________________________________________________\n",
      "global_max_pooling1d_1 (Glob (None, 128)               0         \n",
      "_________________________________________________________________\n",
      "dense_1 (Dense)              (None, 64)                8256      \n",
      "_________________________________________________________________\n",
      "dense_2 (Dense)              (None, 16)                1040      \n",
      "_________________________________________________________________\n",
      "dropout_1 (Dropout)          (None, 16)                0         \n",
      "_________________________________________________________________\n",
      "dense_3 (Dense)              (None, 1)                 17        \n",
      "=================================================================\n",
      "Total params: 15,463,201\n",
      "Trainable params: 15,463,201\n",
      "Non-trainable params: 0\n",
      "_________________________________________________________________\n",
      "None\n"
     ]
    }
   ],
   "source": [
    "# two layers GRU\n",
    "\n",
    "inp = Input(shape=(maxlen,))\n",
    "x = Embedding(max_features, embed_size, weights=[embedding_matrix])(inp)\n",
    "x = Bidirectional(CuDNNGRU(128, return_sequences=True))(x)\n",
    "x = Bidirectional(CuDNNGRU(64, return_sequences=True))(x)\n",
    "x = GlobalMaxPool1D()(x) \n",
    "x = Dense(64, activation=\"relu\")(x)\n",
    "x = Dense(16, activation=\"relu\")(x)\n",
    "x = Dropout(0.1)(x)\n",
    "x = Dense(1, activation=\"sigmoid\")(x)\n",
    "\n",
    "\n",
    "model = Model(inputs=inp, outputs=x)\n",
    "model.compile(loss='binary_crossentropy', optimizer='adam')\n",
    "print(model.summary())\n"
   ]
  },
  {
   "cell_type": "code",
   "execution_count": 0,
   "metadata": {
    "colab": {
     "base_uri": "https://localhost:8080/",
     "height": 887
    },
    "colab_type": "code",
    "id": "0u-Yemwg6dQk",
    "outputId": "c39e3c6b-ef88-4645-dccf-9a752008462a"
   },
   "outputs": [
    {
     "name": "stdout",
     "output_type": "stream",
     "text": [
      "__________________________________________________________________________________________________\n",
      "Layer (type)                    Output Shape         Param #     Connected to                     \n",
      "==================================================================================================\n",
      "input_8 (InputLayer)            (None, 100)          0                                            \n",
      "__________________________________________________________________________________________________\n",
      "embedding_8 (Embedding)         (None, 100, 300)     15000000    input_8[0][0]                    \n",
      "__________________________________________________________________________________________________\n",
      "bidirectional_17 (Bidirectional (None, 100, 256)     440320      embedding_8[0][0]                \n",
      "__________________________________________________________________________________________________\n",
      "batch_normalization_3 (BatchNor (None, 100, 256)     1024        bidirectional_17[0][0]           \n",
      "__________________________________________________________________________________________________\n",
      "conv1d_1 (Conv1D)               (None, 100, 100)     25700       batch_normalization_3[0][0]      \n",
      "__________________________________________________________________________________________________\n",
      "conv1d_2 (Conv1D)               (None, 100, 80)      41040       batch_normalization_3[0][0]      \n",
      "__________________________________________________________________________________________________\n",
      "conv1d_3 (Conv1D)               (None, 100, 30)      23070       batch_normalization_3[0][0]      \n",
      "__________________________________________________________________________________________________\n",
      "conv1d_4 (Conv1D)               (None, 100, 12)      15372       batch_normalization_3[0][0]      \n",
      "__________________________________________________________________________________________________\n",
      "global_max_pooling1d_8 (GlobalM (None, 100)          0           conv1d_1[0][0]                   \n",
      "__________________________________________________________________________________________________\n",
      "global_max_pooling1d_9 (GlobalM (None, 80)           0           conv1d_2[0][0]                   \n",
      "__________________________________________________________________________________________________\n",
      "global_max_pooling1d_10 (Global (None, 30)           0           conv1d_3[0][0]                   \n",
      "__________________________________________________________________________________________________\n",
      "global_max_pooling1d_11 (Global (None, 12)           0           conv1d_4[0][0]                   \n",
      "__________________________________________________________________________________________________\n",
      "concatenate_2 (Concatenate)     (None, 222)          0           global_max_pooling1d_8[0][0]     \n",
      "                                                                 global_max_pooling1d_9[0][0]     \n",
      "                                                                 global_max_pooling1d_10[0][0]    \n",
      "                                                                 global_max_pooling1d_11[0][0]    \n",
      "__________________________________________________________________________________________________\n",
      "dense_23 (Dense)                (None, 200)          44600       concatenate_2[0][0]              \n",
      "__________________________________________________________________________________________________\n",
      "batch_normalization_4 (BatchNor (None, 200)          800         dense_23[0][0]                   \n",
      "__________________________________________________________________________________________________\n",
      "dense_24 (Dense)                (None, 64)           12864       batch_normalization_4[0][0]      \n",
      "__________________________________________________________________________________________________\n",
      "dropout_8 (Dropout)             (None, 64)           0           dense_24[0][0]                   \n",
      "__________________________________________________________________________________________________\n",
      "dense_25 (Dense)                (None, 16)           1040        dropout_8[0][0]                  \n",
      "__________________________________________________________________________________________________\n",
      "batch_normalization_5 (BatchNor (None, 16)           64          dense_25[0][0]                   \n",
      "__________________________________________________________________________________________________\n",
      "dense_26 (Dense)                (None, 1)            17          batch_normalization_5[0][0]      \n",
      "==================================================================================================\n",
      "Total params: 15,605,911\n",
      "Trainable params: 604,967\n",
      "Non-trainable params: 15,000,944\n",
      "__________________________________________________________________________________________________\n",
      "None\n"
     ]
    }
   ],
   "source": [
    "# BiLSTM+CNN\n",
    "\n",
    "filters=[100, 80, 30, 12]    \n",
    "inp = Input(shape=(maxlen,))\n",
    "x = Embedding(max_features, embed_size, weights=[embedding_matrix], trainable=False)(inp)\n",
    "x = Bidirectional(CuDNNLSTM(128, return_sequences=True, \n",
    "                           kernel_initializer=glorot_uniform(), \n",
    "                           recurrent_initializer=Orthogonal(gain=1.00)))(x)\n",
    "x = BatchNormalization()(x)\n",
    "x1 = Conv1D(filters=filters[0], activation='relu', kernel_size=1, \n",
    "            padding='same', kernel_initializer=glorot_uniform())(x)\n",
    "x2 = Conv1D(filters=filters[1], activation='relu', kernel_size=2, \n",
    "            padding='same', kernel_initializer=glorot_uniform())(x)\n",
    "x3 = Conv1D(filters=filters[2], activation='relu', kernel_size=3, \n",
    "            padding='same', kernel_initializer=glorot_uniform())(x)\n",
    "x4 = Conv1D(filters=filters[3], activation='relu', kernel_size=5, \n",
    "            padding='same', kernel_initializer=glorot_uniform())(x)\n",
    "\n",
    "\n",
    "x1 = GlobalMaxPool1D()(x1)\n",
    "x2 = GlobalMaxPool1D()(x2)\n",
    "x3 = GlobalMaxPool1D()(x3)\n",
    "x4 = GlobalMaxPool1D()(x4)\n",
    "\n",
    "c = concatenate([x1, x2, x3, x4])\n",
    "x = Dense(200, activation='relu', kernel_initializer=glorot_uniform())(c)\n",
    "x = BatchNormalization()(x)\n",
    "x = Dense(64, activation=\"relu\")(x)\n",
    "x = Dropout(0.1)(x)\n",
    "x = Dense(16, activation=\"relu\")(x)\n",
    "x = BatchNormalization()(x)\n",
    "x = Dense(1, activation=\"sigmoid\", kernel_initializer=glorot_uniform())(x)\n",
    "model = Model(inputs=inp, outputs=x)\n",
    "model.compile(loss='binary_crossentropy', optimizer='Adam', metrics=['accuracy'])\n",
    "print(model.summary())"
   ]
  },
  {
   "cell_type": "code",
   "execution_count": 10,
   "metadata": {
    "colab": {
     "base_uri": "https://localhost:8080/",
     "height": 221
    },
    "colab_type": "code",
    "id": "1-TXvHNa55s0",
    "outputId": "fd23493c-f93c-476c-f2bb-a62399f31e63"
   },
   "outputs": [
    {
     "name": "stdout",
     "output_type": "stream",
     "text": [
      "WARNING:tensorflow:From /usr/local/lib/python3.6/dist-packages/tensorflow/python/ops/math_ops.py:3066: to_int32 (from tensorflow.python.ops.math_ops) is deprecated and will be removed in a future version.\n",
      "Instructions for updating:\n",
      "Use tf.cast instead.\n",
      "WARNING:tensorflow:From /usr/local/lib/python3.6/dist-packages/tensorflow/python/ops/math_grad.py:102: div (from tensorflow.python.ops.math_ops) is deprecated and will be removed in a future version.\n",
      "Instructions for updating:\n",
      "Deprecated in favor of operator or tf.math.divide.\n",
      "Train on 1044909 samples, validate on 130600 samples\n",
      "Epoch 1/2\n",
      "1044909/1044909 [==============================] - 270s 258us/step - loss: 0.1097 - val_loss: 0.1000\n",
      "Epoch 2/2\n",
      "1044909/1044909 [==============================] - 266s 255us/step - loss: 0.0909 - val_loss: 0.1008\n"
     ]
    },
    {
     "data": {
      "text/plain": [
       "<keras.callbacks.History at 0x7fe49b9f1208>"
      ]
     },
     "execution_count": 10,
     "metadata": {
      "tags": []
     },
     "output_type": "execute_result"
    }
   ],
   "source": [
    "model.fit(train_X, train_y, batch_size=256, epochs=2, validation_data=(val_X, val_y))"
   ]
  },
  {
   "cell_type": "code",
   "execution_count": 11,
   "metadata": {
    "colab": {
     "base_uri": "https://localhost:8080/",
     "height": 153
    },
    "colab_type": "code",
    "id": "SqhaSZbn6_j8",
    "outputId": "73c67811-7b8e-4e7a-ecc1-8ccee750e390",
    "scrolled": true
   },
   "outputs": [
    {
     "name": "stdout",
     "output_type": "stream",
     "text": [
      "130600/130600 [==============================] - 8s 59us/step\n"
     ]
    },
    {
     "data": {
      "text/plain": [
       "array([[0.01810017],\n",
       "       [0.0043821 ],\n",
       "       [0.00049815],\n",
       "       ...,\n",
       "       [0.03954193],\n",
       "       [0.00051263],\n",
       "       [0.00469738]], dtype=float32)"
      ]
     },
     "execution_count": 11,
     "metadata": {
      "tags": []
     },
     "output_type": "execute_result"
    }
   ],
   "source": [
    "pred_noemb_val_y = model.predict([val_X], batch_size=1024, verbose=1)\n",
    "pred_noemb_val_y"
   ]
  },
  {
   "cell_type": "code",
   "execution_count": 30,
   "metadata": {},
   "outputs": [
    {
     "name": "stdout",
     "output_type": "stream",
     "text": [
      "Accuracy at threshold 0.1 is 0.9303522205206738\n",
      "F1 score at threshold 0.1 is 0.6083024717939886\n",
      "Accuracy at threshold 0.11 is 0.9329632465543645\n",
      "F1 score at threshold 0.11 is 0.6156885123567885\n",
      "Accuracy at threshold 0.12 is 0.9349846860643185\n",
      "F1 score at threshold 0.12 is 0.6211573640298041\n",
      "Accuracy at threshold 0.13 is 0.9369831546707503\n",
      "F1 score at threshold 0.13 is 0.6267573696145124\n",
      "Accuracy at threshold 0.14 is 0.9389433384379786\n",
      "F1 score at threshold 0.14 is 0.6329743164871582\n",
      "Accuracy at threshold 0.15 is 0.940666156202144\n",
      "F1 score at threshold 0.15 is 0.6382859543481305\n",
      "Accuracy at threshold 0.16 is 0.9417993874425727\n",
      "F1 score at threshold 0.16 is 0.6417833074131675\n",
      "Accuracy at threshold 0.17 is 0.9430781010719755\n",
      "F1 score at threshold 0.17 is 0.6454597481877147\n",
      "Accuracy at threshold 0.18 is 0.9443491577335376\n",
      "F1 score at threshold 0.18 is 0.6493293447843288\n",
      "Accuracy at threshold 0.19 is 0.9455130168453293\n",
      "F1 score at threshold 0.19 is 0.6530811232449298\n",
      "Accuracy at threshold 0.2 is 0.94656202143951\n",
      "F1 score at threshold 0.2 is 0.6562576959070088\n",
      "Accuracy at threshold 0.21 is 0.947312404287902\n",
      "F1 score at threshold 0.21 is 0.6581549008892642\n",
      "Accuracy at threshold 0.22 is 0.9482006125574273\n",
      "F1 score at threshold 0.22 is 0.6610551630843229\n",
      "Accuracy at threshold 0.23 is 0.9489127105666156\n",
      "F1 score at threshold 0.23 is 0.6628600303183426\n",
      "Accuracy at threshold 0.24 is 0.9496401225114854\n",
      "F1 score at threshold 0.24 is 0.6647979205952805\n",
      "Accuracy at threshold 0.25 is 0.9502526799387443\n",
      "F1 score at threshold 0.25 is 0.6659124800740475\n",
      "Accuracy at threshold 0.26 is 0.9509111791730475\n",
      "F1 score at threshold 0.26 is 0.6673584807762154\n",
      "Accuracy at threshold 0.27 is 0.951615620214395\n",
      "F1 score at threshold 0.27 is 0.6693527287949349\n",
      "Accuracy at threshold 0.28 is 0.9522434915773353\n",
      "F1 score at threshold 0.28 is 0.6712350429603078\n",
      "Accuracy at threshold 0.29 is 0.9530015313935681\n",
      "F1 score at threshold 0.29 is 0.6736495108464483\n",
      "Accuracy at threshold 0.3 is 0.9536523736600306\n",
      "F1 score at threshold 0.3 is 0.6754945585160563\n",
      "Accuracy at threshold 0.31 is 0.954134762633997\n",
      "F1 score at threshold 0.31 is 0.6764261019878997\n",
      "Accuracy at threshold 0.32 is 0.9546630934150077\n",
      "F1 score at threshold 0.32 is 0.6776634547335185\n",
      "Accuracy at threshold 0.33 is 0.9551378254211332\n",
      "F1 score at threshold 0.33 is 0.6785537938223516\n",
      "Accuracy at threshold 0.34 is 0.9554900459418071\n",
      "F1 score at threshold 0.34 is 0.6791411381575316\n",
      "Accuracy at threshold 0.35 is 0.9559494640122511\n",
      "F1 score at threshold 0.35 is 0.6799443671766343\n",
      "Accuracy at threshold 0.36 is 0.956332312404288\n",
      "F1 score at threshold 0.36 is 0.680020198619761\n",
      "Accuracy at threshold 0.37 is 0.9568300153139356\n",
      "F1 score at threshold 0.37 is 0.6809281267685342\n",
      "Accuracy at threshold 0.38 is 0.9572358346094947\n",
      "F1 score at threshold 0.38 is 0.6814941545480468\n",
      "Accuracy at threshold 0.39 is 0.9575574272588055\n",
      "F1 score at threshold 0.39 is 0.6816380449141347\n",
      "Accuracy at threshold 0.4 is 0.9577871362940276\n",
      "Accuracy at threshold 0.41 is 0.9580091883614089\n",
      "Accuracy at threshold 0.42 is 0.9583460949464012\n",
      "Accuracy at threshold 0.43 is 0.9586676875957121\n",
      "Accuracy at threshold 0.44 is 0.9588973966309341\n",
      "Accuracy at threshold 0.45 is 0.9592266462480857\n",
      "Accuracy at threshold 0.46 is 0.9595176110260337\n",
      "Accuracy at threshold 0.47 is 0.959885145482389\n",
      "Accuracy at threshold 0.48 is 0.9599617151607963\n",
      "Accuracy at threshold 0.49 is 0.9602297090352221\n",
      "Accuracy at threshold 0.5 is 0.9602373660030628\n",
      "Accuracy at threshold 0.51 is 0.9603215926493108\n",
      "Accuracy at threshold 0.52 is 0.960635528330781\n",
      "Accuracy at threshold 0.53 is 0.9607120980091883\n",
      "Accuracy at threshold 0.56 is 0.9608039816232772\n"
     ]
    }
   ],
   "source": [
    "# compute F1 score and Accuracy\n",
    "\n",
    "acc =0\n",
    "f1 = 0\n",
    "for thresh in np.arange(0.1, 0.99, 0.01):\n",
    "    thresh = np.round(thresh, 2)\n",
    "    if metrics.accuracy_score(val_y, (pred_noemb_val_y>thresh).astype(int))>acc:\n",
    "        print(\"Accuracy at threshold {0} is {1}\".format(thresh, metrics.accuracy_score(val_y, (pred_noemb_val_y>thresh).astype(int))))\n",
    "        acc = metrics.accuracy_score(val_y, (pred_noemb_val_y>thresh).astype(int))\n",
    "    if metrics.f1_score(val_y, (pred_noemb_val_y>thresh).astype(int))>f1:\n",
    "        print(\"F1 score at threshold {0} is {1}\".format(thresh, metrics.f1_score(val_y, (pred_noemb_val_y>thresh).astype(int))))\n",
    "        f1 = metrics.f1_score(val_y, (pred_noemb_val_y>thresh).astype(int))\n",
    "    "
   ]
  }
 ],
 "metadata": {
  "accelerator": "GPU",
  "colab": {
   "collapsed_sections": [
    "kCHE8kv5puAO",
    "Q4MPIk4ZXiYr"
   ],
   "name": "Quora.ipynb",
   "provenance": [],
   "toc_visible": true,
   "version": "0.3.2"
  },
  "kernelspec": {
   "display_name": "Python 3",
   "language": "python",
   "name": "python3"
  },
  "language_info": {
   "codemirror_mode": {
    "name": "ipython",
    "version": 3
   },
   "file_extension": ".py",
   "mimetype": "text/x-python",
   "name": "python",
   "nbconvert_exporter": "python",
   "pygments_lexer": "ipython3",
   "version": "3.7.4"
  }
 },
 "nbformat": 4,
 "nbformat_minor": 1
}
